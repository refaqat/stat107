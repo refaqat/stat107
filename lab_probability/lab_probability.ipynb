{
 "cells": [
  {
   "attachments": {},
   "cell_type": "markdown",
   "metadata": {},
   "source": [
    "# Welcome to Lab: Probability 🎂\n",
    "\n",
    "### Happy Birthday!\n",
    "\n",
    "Just kidding, it's *(probably, with P=0.9973)* not your birthday, but it might be someone's birthday in this room! \n",
    "\n",
    "In this lab, we will be completing some classic probability questions surrounding birthdays!\n",
    "\n",
    "- For these puzzles, we assume that each year is **365 days** (ignore leap years)\n",
    "- We also assume that everyone has an **equal chance** of a birthday each day *(not actually true in real life)*\n",
    "\n",
    "\n",
    "A few tips to remember:\n",
    "\n",
    "- **You are not alone on your journey in learning programming!**  You have your lab Teaching Assistant, your Course Aides, your lab group, and the professors (Prof. Wade and Prof. Karle), who are all here to help you out!\n",
    "- If you find yourself stuck for more than a few minutes, ask a neighbor or course staff for help!  When you are giving help to your neighbor, explain the **idea and approach** to the problem without sharing the answer itself so they can have the same **<i>ah-hah</i>** moment!\n",
    "- We are here to help you!  Don't feel embarrassed or shy to ask us for help!\n",
    "\n",
    "Let's get started!"
   ]
  },
  {
   "cell_type": "code",
   "execution_count": null,
   "metadata": {},
   "outputs": [],
   "source": [
    "# Meet your CAs and TA if you haven't already!\n",
    "# ...first name is enough, we'll know who they are! :)\n",
    "ta_name = \"KIM\"\n",
    "ca1_name = \"JAI \"\n",
    "ca2_name = \"MIA\"\n",
    "\n",
    "\n",
    "# Say hello to each other!\n",
    "# - Groups of 3 are ideal :)\n",
    "# - However, groups of 2 or 4 are fine too!\n",
    "#\n",
    "# QOTD to Ask Your Group: \"What's your favorite restaurant on campus?\"\n",
    "partner1_name = \"KASRA\"\n",
    "partner1_netid = \"kvark2\"\n",
    "partner1_fav = \"Bangkok Thai\"\n",
    "\n",
    "partner2_name = \"BRYAN\"\n",
    "partner2_netid = \"bmarty2\"\n",
    "partner2_fav = \"Chipotle\"\n",
    "\n",
    "partner3_name = \"\"\n",
    "partner3_netid = \"\"\n",
    "partner3_fav = \"\""
   ]
  },
  {
   "cell_type": "markdown",
   "metadata": {},
   "source": [
    "<hr style=\"color: #DD3403;\">"
   ]
  },
  {
   "attachments": {},
   "cell_type": "markdown",
   "metadata": {},
   "source": [
    "# Part 1: Your Birthday\n",
    "\n",
    "The **birthday problem** is a classic statistical problem that asks: *How likely is it for at least two people in a room of **n** people to share a birthday?*  In other words, what's the chance that there's **at least one match of birthdays** in a room with **n** people? We'll eventually answer this question in this lab.\n",
    "\n",
    "To begin, let's consider **your birthday**.  This is a related, but very different question: \n",
    "\n",
    "> *How likely is it for at least one person in a room to have the same birthday as **me**?*"
   ]
  },
  {
   "attachments": {},
   "cell_type": "markdown",
   "metadata": {},
   "source": [
    "### Puzzle 1.1: Sharing a Birthday\n",
    "\n",
    "We should first answer: if you are in a room with **one other person**, what is the probability you both have the same birthday? (*Of course, you know your own birthday!*) \n",
    "\n",
    "Using **mathematics and probability** (not any special Python functions), replace the ... with your answer in the following puzzles!\n",
    "\n",
    "First, find the probability that you share the same birthday with **one other person**, storing your numerical answer in `p_one_person_my_birthday`!\n",
    "\n",
    "*Hint:* How many days of the year make it possible for someone to share **your birthday**?"
   ]
  },
  {
   "cell_type": "code",
   "execution_count": 1,
   "metadata": {
    "nbgrader": {
     "grade": false,
     "grade_id": "cell-16021a893dda10f8",
     "locked": false,
     "schema_version": 3,
     "solution": true,
     "task": false
    }
   },
   "outputs": [
    {
     "data": {
      "text/plain": [
       "0.0027397260273972603"
      ]
     },
     "execution_count": 1,
     "metadata": {},
     "output_type": "execute_result"
    }
   ],
   "source": [
    "p_one_person_my_birthday = 1/365\n",
    "p_one_person_my_birthday"
   ]
  },
  {
   "attachments": {},
   "cell_type": "markdown",
   "metadata": {},
   "source": [
    "Now, if you are in a room with **two other people**, what is the probability that **at least one of them** has the same birthday as you?\n",
    "\n",
    "Remember:\n",
    "- **$P(\\text{at least one}) = 1 - P(\\text{none})$**\n",
    "- If someone **does not** share your birthday, that means their birthday is on one of the **other 364 days** of the year. \n",
    "- Two people independently have the **same probability** of not sharing a birthday with you, but you would need to **multiply** those probabilities together.\n",
    "- Store your numerical answer in `p_two_others_my_birthday`!"
   ]
  },
  {
   "cell_type": "code",
   "execution_count": 7,
   "metadata": {
    "nbgrader": {
     "grade": false,
     "grade_id": "cell-d776448804b67dfc",
     "locked": false,
     "schema_version": 3,
     "solution": true,
     "task": false
    }
   },
   "outputs": [
    {
     "data": {
      "text/plain": [
       "0.005471945956089352"
      ]
     },
     "execution_count": 7,
     "metadata": {},
     "output_type": "execute_result"
    }
   ],
   "source": [
    "p_two_others_my_birthday = 1-((364/365)*(364/365))\n",
    "p_two_others_my_birthday"
   ]
  },
  {
   "attachments": {},
   "cell_type": "markdown",
   "metadata": {},
   "source": [
    "Finally, if you are in a room with **three other people**, what is the probability that **at least one of them** has the same birthday as you?\n",
    "\n",
    "Store your numerical answer in `p_three_others_my_birthday`. \n",
    "\n",
    "Look back to how you calculated `p_two_others_my_birthday` if you're stuck - the calculations involved should be quite similar! \n"
   ]
  },
  {
   "cell_type": "code",
   "execution_count": 8,
   "metadata": {
    "nbgrader": {
     "grade": false,
     "grade_id": "cell-9b6271534fe56ab1",
     "locked": false,
     "schema_version": 3,
     "solution": true,
     "task": false
    }
   },
   "outputs": [
    {
     "data": {
      "text/plain": [
       "0.008196680350730179"
      ]
     },
     "execution_count": 8,
     "metadata": {},
     "output_type": "execute_result"
    }
   ],
   "source": [
    "p_three_others_my_birthday = 1-((364/365)*(364/365)*(364/365))\n",
    "p_three_others_my_birthday"
   ]
  },
  {
   "cell_type": "markdown",
   "metadata": {},
   "source": [
    "### 🔬 Test Case Checkpoint 🔬"
   ]
  },
  {
   "cell_type": "code",
   "execution_count": 9,
   "metadata": {
    "nbgrader": {
     "grade": true,
     "grade_id": "cell-2213109ad4022435",
     "locked": true,
     "points": 0,
     "schema_version": 3,
     "solution": false,
     "task": false
    }
   },
   "outputs": [
    {
     "name": "stdout",
     "output_type": "stream",
     "text": [
      "🎉 All tests passed! 🎉\n"
     ]
    }
   ],
   "source": [
    "## == TEST CASES for Puzzle 1.1 ==\n",
    "# - This read-only cell contains test cases for your previous cells.\n",
    "# - If this cell runs without any error our output, you PASSED all test cases!\n",
    "# - If this cell results in any errors, check you previous cell, make changes, and RE-RUN your code and then this cell.\n",
    "import math \n",
    "assert( math.isclose(p_one_person_my_birthday, 0.0027397260273972603) ), \"The probability for one birthday doesn't seem right.\"\n",
    "assert( math.isclose(p_two_others_my_birthday, 0.005471945956089352) ), \"The probability for two birthdays doesn't seem right.\"\n",
    "assert( math.isclose(p_three_others_my_birthday, 0.008196680350730179) ), \"The probability for three birthdays doesn't seem right.\"\n",
    "\n",
    "## == SUCCESS MESSAGE ==\n",
    "# You will only see this message (with the emoji showing) if you passed all test cases:\n",
    "tada = \"\\N{PARTY POPPER}\"\n",
    "print(f\"{tada} All tests passed! {tada}\")"
   ]
  },
  {
   "attachments": {},
   "cell_type": "markdown",
   "metadata": {},
   "source": [
    "### Puzzle 1.2: Sharing My Birthday with `n` Other People\n",
    "\n",
    "You may have noticed a pattern beginning to form. When we add more people ($n$) to a room, the probability that **at least one** of them shares a birthday with yours **compounds** (that is, the $P(\\text{none})$ in our $P(\\text{at least one})$ is multiplied by itself)\n",
    "\n",
    "Suppose we have a room with **`n` other people**.  \n",
    "\n",
    "Complete the function `p_my_birthday(n)`, where `n` is the parameter, that **returns the numerical probability** that **at least one person** has the same birthday as you.  All you have to do is replace the ... with the probability written in terms of `n`.\n",
    "\n",
    "**Note:** A function is a useful way to **reuse code** and use different inputs to get different outputs, similar to a math function except for code! :) Below, we set up most of the code to **define** the function `p_my_birthday` with the parameter `n` as the input (i.e. how many other people there are in the room with you). The output of the function should be the calculated probability of observing **at least one** match with you in a room with `n` other people.\n"
   ]
  },
  {
   "cell_type": "code",
   "execution_count": 20,
   "metadata": {
    "nbgrader": {
     "grade": false,
     "grade_id": "cell-9fcc75505fada2fa",
     "locked": false,
     "schema_version": 3,
     "solution": true,
     "task": false
    }
   },
   "outputs": [],
   "source": [
    "# Defining the function\n",
    "def p_my_birthday(n):\n",
    "    return 1-((364/365)**n)\n"
   ]
  },
  {
   "attachments": {},
   "cell_type": "markdown",
   "metadata": {},
   "source": [
    "### Running Your Function\n",
    "\n",
    "Here are a few inputs to test our function.  Make sure the answers are what you expect. \n",
    "\n",
    "You **do not change to do anything** for this cell, **just run it**!"
   ]
  },
  {
   "cell_type": "code",
   "execution_count": 21,
   "metadata": {},
   "outputs": [
    {
     "name": "stdout",
     "output_type": "stream",
     "text": [
      "A room with one other person: 0.002739726027397249\n",
      "A room with two other people: 0.005471945956089352\n",
      "A room with three other people: 0.008196680350730179\n",
      "A room with 100 other people: 0.23993292618409912\n",
      "A room with 1000 other people: 0.9356543499651447\n",
      "A room with 10000 other people: 0.9999999999987833\n"
     ]
    }
   ],
   "source": [
    "print('A room with one other person:', p_my_birthday(1))\n",
    "print('A room with two other people:', p_my_birthday(2))\n",
    "print('A room with three other people:', p_my_birthday(3))\n",
    "print('A room with 100 other people:', p_my_birthday(100))\n",
    "print('A room with 1000 other people:', p_my_birthday(1000))\n",
    "print('A room with 10000 other people:', p_my_birthday(10000))"
   ]
  },
  {
   "cell_type": "markdown",
   "metadata": {},
   "source": [
    "### 🔬 Test Case Checkpoint 🔬"
   ]
  },
  {
   "cell_type": "code",
   "execution_count": 22,
   "metadata": {
    "nbgrader": {
     "grade": true,
     "grade_id": "cell-f1a2b09260950b38",
     "locked": true,
     "points": 0,
     "schema_version": 3,
     "solution": false,
     "task": false
    }
   },
   "outputs": [
    {
     "name": "stdout",
     "output_type": "stream",
     "text": [
      "🎉 All tests passed! 🎉\n"
     ]
    }
   ],
   "source": [
    "## == TEST CASES for Puzzle 1.2 ==\n",
    "# - This read-only cell contains test cases for your previous cells.\n",
    "# - If this cell runs without any error our output, you PASSED all test cases!\n",
    "# - If this cell results in any errors, check you previous cell, make changes, and RE-RUN your code and then this cell.\n",
    "\n",
    "assert( math.isclose(p_my_birthday(1), 0.002739726027397249) ), \"The probability for your function with n = 1 doesn't seem right.\"\n",
    "assert( math.isclose(p_my_birthday(2), 0.005471945956089352) ), \"The probability for your function with n = 2 doesn't seem right.\"\n",
    "assert( math.isclose(p_my_birthday(3), 0.008196680350730179) ), \"The probability for your function with n = 3 doesn't seem right.\"\n",
    "assert( math.isclose(p_my_birthday(100), 0.23993292618409912) ), \"The probability for your function with n = 100 doesn't seem right.\"\n",
    "assert( math.isclose(p_my_birthday(1000), 0.9356543499651447) ), \"The probability for your function with n = 1000 doesn't seem right.\"\n",
    "\n",
    "## == SUCCESS MESSAGE ==\n",
    "# You will only see this message (with the emoji showing) if you passed all test cases:\n",
    "tada = \"\\N{PARTY POPPER}\"\n",
    "print(f\"{tada} All tests passed! {tada}\")"
   ]
  },
  {
   "attachments": {},
   "cell_type": "markdown",
   "metadata": {},
   "source": [
    "### Plotting Your Function\n",
    "\n",
    "The following code below uses your `p_my_birthday` function to **generate a plot** showing the probability of you having the same birthday as someone else **increasing** as the number of people (n) in the room grows.\n",
    "\n",
    "This code is **complete**, but notice how it is **very close** to the simulation code you've seen in lecture:\n",
    "- Both code for simulation and the code below starts with an empty list (`data = []`)\n",
    "- Both code for simulation and the code below runs a defined number of times (`for i in range(2000):`)\n",
    "- Instead of simulating real-world variables, we record the data for every value of `i`.\n",
    "- The rest is the same! :)\n",
    "\n",
    "**Do not change** anything in the following two cells, just **run them and observe**. "
   ]
  },
  {
   "cell_type": "code",
   "execution_count": 23,
   "metadata": {},
   "outputs": [],
   "source": [
    "# Record the data in a DataFrame:\n",
    "import pandas as pd\n",
    "data = []\n",
    "for i in range(2000):\n",
    "    d = { 'Other People': i, 'P(at least one person shares my birthday)': p_my_birthday(i) }\n",
    "    data.append(d)\n",
    "\n",
    "df = pd.DataFrame(data)"
   ]
  },
  {
   "cell_type": "code",
   "execution_count": 24,
   "metadata": {},
   "outputs": [
    {
     "data": {
      "image/png": "[encoded data removed]",
      "text/plain": [
       "<Figure size 640x480 with 1 Axes>"
      ]
     },
     "metadata": {},
     "output_type": "display_data"
    }
   ],
   "source": [
    "# Plot our DataFrame:\n",
    "plot = df.plot.line(y='P(at least one person shares my birthday)', x='Other People', grid=True)"
   ]
  },
  {
   "attachments": {},
   "cell_type": "markdown",
   "metadata": {},
   "source": [
    "### Analysis: Birthday Probabilities\n",
    "\n",
    "**Q1: Is it more or less likely that someone in your lab shares *your* birthday **OR** that there's at least one shared birthday between *anyone* in your lab?**"
   ]
  },
  {
   "attachments": {},
   "cell_type": "markdown",
   "metadata": {},
   "source": [
    "Based on the amount of people in my lab section (less than 250), I think that it's more likely that theres at least one shared birthday between anyone in the lab than with mine. I think that this is intuitive and aligns with the above graph as well as my own prediction that it's more likely that two other people share a birthday. "
   ]
  },
  {
   "attachments": {},
   "cell_type": "markdown",
   "metadata": {},
   "source": [
    "**Group Discussion: In your lab section there is likely over a 50% chance that two people share a birthday. Using the results from Puzzle 1.2 and your conclusions above, discuss with your group whether you think this is intuitive or counterintuitive.**"
   ]
  },
  {
   "cell_type": "markdown",
   "metadata": {},
   "source": [
    "<hr style=\"color: #DD3403;\">"
   ]
  },
  {
   "attachments": {},
   "cell_type": "markdown",
   "metadata": {},
   "source": [
    "# Part 2: The Classic Birthday Problem\n",
    "\n",
    "Now that we've warmed up by considering **your birthday**, we can go back to the original **birthday problem**. \n",
    "\n",
    "To restate, the **birthday problem** is a classic problem that asks:\n",
    "> *How likely is it for at least two people in a room to share a birthday?*\n",
    "\n",
    "**NOTE**: Since we're no longer using **your** birthday, all birthdays here are now **random**."
   ]
  },
  {
   "attachments": {},
   "cell_type": "markdown",
   "metadata": {},
   "source": [
    "### Puzzle 2.1: Birthday Sharing at a Small Party\n",
    "\n",
    "Let's first walk  through scenarios of people sharing birthdays at super small parties of one, two, or three people. \n",
    "\n",
    "\n",
    "#### **A One-Person Party** (n=1)\n",
    "\n",
    "Suppose there is just one person in a room. Not really a party, but the probability that they **share a birthday** with someone else is... well... 0%. :(\n",
    "\n",
    "$P(\\text{shared birthday with 1 person}) = 0$\n",
    "\n",
    "\n",
    "#### **A Two-Person Party** (n=2)\n",
    "\n",
    "Now, let's add one more person to the party. \n",
    "\n",
    "The probability of **two people in a room** sharing the same birthday is non-zero! \n",
    "\n",
    "This is the probability of the **second person** having **exactly the same birthday** as the first, or 1 out of 365!\n",
    "\n",
    "$P(\\text{shared birthday with 2 people}) = \\frac{1}{365}$\n",
    "\n",
    "\n",
    "#### **A Three-Person Party** (n=3)\n",
    "\n",
    "Now it gets interesting! Adding one more person to the party, we now have three total in attendance. \n",
    "\n",
    "In a three person party, what is the **probability** that there is **at least one** match of birthdays?\n",
    "\n",
    "Remember:\n",
    "- **$P(\\text{at least one}) = 1 - P(\\text{none})$**\n",
    "- We aren't only considering **your** birthday, but now **any** birthday in the room of three. \n",
    "- For **none of the birthdays** to match, the second person would need to have a birthday on one of the other **364 days**, but the third person would need to have a birthday that **isn't shared** with the unique **first OR second person's birthday**. How many days does that leave? \n",
    "\n",
    "\n",
    "Use these hints, find the probability that at least two people share a birthday in a party of three, storing your numerical answer in `p_three_person_party`:"
   ]
  },
  {
   "cell_type": "code",
   "execution_count": 50,
   "metadata": {
    "nbgrader": {
     "grade": false,
     "grade_id": "cell-9db7fd67d49459bd",
     "locked": false,
     "schema_version": 3,
     "solution": true,
     "task": false
    }
   },
   "outputs": [
    {
     "data": {
      "text/plain": [
       "0.008204165884781345"
      ]
     },
     "execution_count": 50,
     "metadata": {},
     "output_type": "execute_result"
    }
   ],
   "source": [
    "p_three_person_party = 1-((364/365)*(363/365))\n",
    "p_three_person_party"
   ]
  },
  {
   "cell_type": "markdown",
   "metadata": {},
   "source": [
    "### 🔬 Test Case Checkpoint 🔬"
   ]
  },
  {
   "cell_type": "code",
   "execution_count": 51,
   "metadata": {
    "nbgrader": {
     "grade": true,
     "grade_id": "cell-3aa5b5a4afef9fbc",
     "locked": true,
     "points": 0,
     "schema_version": 3,
     "solution": false,
     "task": false
    }
   },
   "outputs": [
    {
     "name": "stdout",
     "output_type": "stream",
     "text": [
      "🎉 All tests passed! 🎉\n"
     ]
    }
   ],
   "source": [
    "## == TEST CASES for Puzzle 2.1 ==\n",
    "# - This read-only cell contains test cases for your previous cell.\n",
    "# - If this cell runs without any error our output, you PASSED all test cases!\n",
    "# - If this cell results in any errors, check you previous cell, make changes, and RE-RUN your code and then this cell.\n",
    "import math\n",
    "assert( math.isclose(p_three_person_party, 0.008204165884781345) ), \"The probability doesn't seem right.\"\n",
    "\n",
    "## == SUCCESS MESSAGE ==\n",
    "# You will only see this message (with the emoji showing) if you passed all test cases:\n",
    "tada = \"\\N{PARTY POPPER}\"\n",
    "print(f\"{tada} All tests passed! {tada}\")"
   ]
  },
  {
   "attachments": {},
   "cell_type": "markdown",
   "metadata": {},
   "source": [
    "### Puzzle 2.2: A Four-Person Party\n",
    "\n",
    "Using what you've learned, let's increase our party size to four.\n",
    "\n",
    "In a four person party, what is the probability that there is **at least one match** of birthdays?\n",
    "\n",
    "Use the following cell to find the numerical answer, storing it in the variable `p_four_person_party`:"
   ]
  },
  {
   "cell_type": "code",
   "execution_count": 56,
   "metadata": {
    "nbgrader": {
     "grade": false,
     "grade_id": "cell-1a5b32da97b97164",
     "locked": false,
     "schema_version": 3,
     "solution": true,
     "task": false
    }
   },
   "outputs": [
    {
     "data": {
      "text/plain": [
       "0.016355912466550215"
      ]
     },
     "execution_count": 56,
     "metadata": {},
     "output_type": "execute_result"
    }
   ],
   "source": [
    "p_four_person_party = 1-((364/365)*(363/365)*(362/365))\n",
    "p_four_person_party"
   ]
  },
  {
   "cell_type": "markdown",
   "metadata": {},
   "source": [
    "### 🔬 Test Case Checkpoint 🔬"
   ]
  },
  {
   "cell_type": "code",
   "execution_count": 57,
   "metadata": {
    "nbgrader": {
     "grade": true,
     "grade_id": "cell-571231fcdfa9de08",
     "locked": true,
     "points": 1,
     "schema_version": 3,
     "solution": false,
     "task": false
    }
   },
   "outputs": [
    {
     "name": "stdout",
     "output_type": "stream",
     "text": [
      "🎉 All tests passed! 🎉\n"
     ]
    }
   ],
   "source": [
    "## == TEST CASES for Puzzle 2.2 ==\n",
    "# - This read-only cell contains test cases for your previous cell.\n",
    "# - If this cell runs without any error our output, you PASSED all test cases!\n",
    "# - If this cell results in any errors, check you previous cell, make changes, and RE-RUN your code and then this cell.\n",
    "import math\n",
    "assert( math.isclose(p_four_person_party, 0.016355912466550215) ), \"The probability doesn't seem right.\"\n",
    "\n",
    "## == SUCCESS MESSAGE ==\n",
    "# You will only see this message (with the emoji showing) if you passed all test cases:\n",
    "tada = \"\\N{PARTY POPPER}\"\n",
    "print(f\"{tada} All tests passed! {tada}\")"
   ]
  },
  {
   "attachments": {},
   "cell_type": "markdown",
   "metadata": {},
   "source": [
    "### Example: Sharing a Birthday at an `n`-Person Party\n",
    "\n",
    "For your convenience, we've created a function called `P_shared_birthday` that returns the **probability** that there is **at least one** match of birthdays among `n` people. This function just computes the Birthday Problem we did in lecture!\n",
    "\n",
    "Alongside the function itself, we have also provided **print statements** that will output the **probabilities** of **at least one** match of birthdays among varying `n` people. \n",
    "\n",
    "**Do not modify** this function, just **run the cell** below and confirm the **outputs make sense**:"
   ]
  },
  {
   "cell_type": "code",
   "execution_count": 58,
   "metadata": {
    "nbgrader": {
     "grade": false,
     "grade_id": "cell-8826e853f191d14f",
     "locked": false,
     "schema_version": 3,
     "solution": true,
     "task": false
    }
   },
   "outputs": [
    {
     "name": "stdout",
     "output_type": "stream",
     "text": [
      "A room with just you: 0\n",
      "A room with two people: 0.002739726027397249\n",
      "A room with three people: 0.008204165884781456\n",
      "A room with four people: 0.016355912466550326\n",
      "A room with 40 other people: 0.891231809817949\n",
      "A room with 80 other people: 0.9999143319493135\n",
      "A room with 400 other people: 1.0\n"
     ]
    }
   ],
   "source": [
    "def P_shared_birthday(n):\n",
    "    p_none = 1\n",
    "    for i in range(1, n):\n",
    "        p_none = p_none * (365 - i) / 365\n",
    "    return 1 - p_none\n",
    "\n",
    "# A few test outputs...\n",
    "print('A room with just you:',  P_shared_birthday(1))\n",
    "print('A room with two people:',  P_shared_birthday(2))\n",
    "print('A room with three people:',  P_shared_birthday(3))\n",
    "print('A room with four people:',  P_shared_birthday(4))\n",
    "print('A room with 40 other people:',  P_shared_birthday(40))\n",
    "print('A room with 80 other people:',  P_shared_birthday(80))\n",
    "print('A room with 400 other people:',  P_shared_birthday(400))"
   ]
  },
  {
   "cell_type": "markdown",
   "metadata": {},
   "source": [
    "### 🔬 Test Case Checkpoint 🔬"
   ]
  },
  {
   "cell_type": "code",
   "execution_count": 59,
   "metadata": {
    "nbgrader": {
     "grade": true,
     "grade_id": "cell-5a323ce5fab0c281",
     "locked": true,
     "points": 0,
     "schema_version": 3,
     "solution": false,
     "task": false
    }
   },
   "outputs": [
    {
     "name": "stdout",
     "output_type": "stream",
     "text": [
      "🎉 All tests passed! 🎉\n"
     ]
    }
   ],
   "source": [
    "## == TEST CASES for Example Function ==\n",
    "# - This read-only cell contains test cases for the function we've provided you.\n",
    "# - Please see a TA/CA if these test cases do not pass. You should not have to change the code we've provided above. \n",
    "\n",
    "import math\n",
    "assert( math.isclose(P_shared_birthday(3), 0.008204165884781456) ), \"The P_shared_birthday function is incorrect for n = 3.\"\n",
    "assert( math.isclose(P_shared_birthday(4), 0.016355912466550326) ), \"The P_shared_birthday function is incorrect for n = 4.\"\n",
    "assert( math.isclose(P_shared_birthday(40), 0.891231809817949) ), \"The P_shared_birthday function is incorrect for n = 40.\"\n",
    "assert( math.isclose(P_shared_birthday(400), 1.0) ), \"The P_shared_birthday function is incorrect for n = 100.\"\n",
    "\n",
    "## == SUCCESS MESSAGE ==\n",
    "# You will only see this message (with the emoji showing) if you passed all test cases:\n",
    "tada = \"\\N{PARTY POPPER}\"\n",
    "print(f\"{tada} All tests passed! {tada}\")"
   ]
  },
  {
   "attachments": {},
   "cell_type": "markdown",
   "metadata": {},
   "source": [
    "### Puzzle 2.3: Plotting P_shared_birthday\n",
    "\n",
    "Now generate a plot showing the growth of `P_shared_birthday` over changes to `n`. This plot will display how the **probability of at least two people** sharing a birthday in a room changes as the **number of people grows**.\n",
    "\n",
    "Your code should be **very similar** to simulation code from lecture.   \n",
    "\n",
    "If you get stuck, **look back** at how we generated the function plot in **Part 1** of this lab.\n",
    "\n",
    "\n",
    "When you modifying the code from earlier in this lab, be sure to **adjust the number of records** you record (range of the `for` loop) to focus only on the **interesting part** of this plot (when the probability is changing the most)."
   ]
  },
  {
   "cell_type": "code",
   "execution_count": 71,
   "metadata": {
    "nbgrader": {
     "grade": false,
     "grade_id": "cell-c46ee253ad4a8777",
     "locked": false,
     "schema_version": 3,
     "solution": true,
     "task": false
    }
   },
   "outputs": [],
   "source": [
    "# Create the DataFrame:\n",
    "import pandas as pd\n",
    "data = []\n",
    "for i in range(150):\n",
    "    d = { 'Other People': i, 'P(at least two share a birthday)': P_shared_birthday(i) }\n",
    "    data.append(d)\n",
    "\n",
    "df1 = pd.DataFrame(data)"
   ]
  },
  {
   "cell_type": "code",
   "execution_count": 70,
   "metadata": {},
   "outputs": [
    {
     "data": {
      "image/png": "[encoded data removed]",
      "text/plain": [
       "<Figure size 640x480 with 1 Axes>"
      ]
     },
     "metadata": {},
     "output_type": "display_data"
    }
   ],
   "source": [
    "# Plot the DataFrame:\n",
    "plot = df1.plot.line(y='P(at least two share a birthday)', x='Other People', grid=True)"
   ]
  },
  {
   "attachments": {},
   "cell_type": "markdown",
   "metadata": {},
   "source": [
    "### Analysis: Birthday Problem Plot\n",
    "\n",
    "**Q2: Observe the plot you've generated above. What does the shape of the plot tell you about the probability of at least two people sharing birthdays in a room of `n` people as opposed to them sharing a specific birthday with you? Which one becomes more likely with a lower value of `n` (people in the room)?**"
   ]
  },
  {
   "attachments": {},
   "cell_type": "markdown",
   "metadata": {},
   "source": [
    "The probability of at least two sharing a birthday in a roomful of n people is more likely than them sharing a specific birthday with me. This is shown as the prior plot is a polynomial function while the second seems to be more of an exponential growth. After analysis of the plots I see that with a lower value of n, it becomes more likely to have at least two people share a birthday (which makes sense as it is an exponential)."
   ]
  },
  {
   "cell_type": "markdown",
   "metadata": {},
   "source": [
    "<hr style=\"color: #DD3403;\">"
   ]
  },
  {
   "attachments": {},
   "cell_type": "markdown",
   "metadata": {},
   "source": [
    "# Part 3: Taylor's Birthday Problem\n",
    "\n",
    "We've made some great progress answering the classic Birthday Problem, but now Taylor Swift is coming to perform at UIUC and wants more. Specifically,  Taylor Swift wants **every day to be someone's birthday**!  \n",
    "\n",
    "In this portion of the lab, we will discover:\n",
    "> Given a massive concert of `n` people, what is the probability that **all 365 days have at least one person with a birthday that day**?\n",
    "\n",
    "Since Wade, Karle, and the full course staff love Taylor, we wrote a **function** to do this simulation for Taylor!  You can check out the code below, but all you need to know is that:\n",
    "\n",
    "> The `simulation_for_taylor` function returns **one simulation** of the **number of people** needed to **satisfy Taylor's wish** for there to be someone with a birthday for **every day of the year** at her concert!\n",
    "\n",
    "...you will need to **use this function** to help us calculate probabilities!\n",
    "\n",
    "**Do not change** anything in the following cell, just **run it and observe**. "
   ]
  },
  {
   "cell_type": "code",
   "execution_count": 72,
   "metadata": {},
   "outputs": [],
   "source": [
    "# The `simulation_for_taylor` function returns one simulation of the number of people needed\n",
    "# to satisfy Taylor's wish for there to be someone with a birthday for every day of the year\n",
    "# at her concert!\n",
    "#\n",
    "# @return: One simulation of the number of people needed at the concert.\n",
    "#   Examples: 2056, 2520, 2868, 3033, 2022, 1743, ...\n",
    "import random\n",
    "\n",
    "def simulation_for_taylor():\n",
    "    ct = 0   #< Count the number of people needed\n",
    "    day = 0  #< Count the current unique days found\n",
    "    \n",
    "    # While all 365 unique days have not been seen:\n",
    "    while day < 365:\n",
    "        # Add a person:\n",
    "        ct = ct + 1\n",
    "        \n",
    "        # Check if a random number is a new, unique day.\n",
    "        # - When day == 0, we've seen no unique days so P(unique day) == 1 as randint(0, 364) will always be `>= 0` (100%)\n",
    "        # - When day == 1, P(unique day) == (364/365) and we check if we get a number `>= 1` (any number but 0)\n",
    "        # - When day == 2, P(unique day) == (363/365) and we check if we get a number `>= 2` (anything but 0 or 1)\n",
    "        # - ...\n",
    "        # - When day == 364, P(unique day) == (1/365) so we need get randint(0, 364) to be exactly 364.\n",
    "        if random.randint(0, 364) >= day:\n",
    "            day = day + 1\n",
    "            \n",
    "    # Return the number of people needed\n",
    "    return ct    "
   ]
  },
  {
   "attachments": {},
   "cell_type": "markdown",
   "metadata": {},
   "source": [
    "### Running the Simulation\n",
    "\n",
    "**Run** the following cell **several times**.  It's calling our `simulation_for_taylor()` function once and outputting a **number**. \n",
    "\n",
    "This **number** is the number of people in **one simulated instance** of Taylor's concert **needed** for **every day of the year** to be someone's birthday:"
   ]
  },
  {
   "cell_type": "code",
   "execution_count": 77,
   "metadata": {
    "nbgrader": {
     "grade": false,
     "grade_id": "cell-a60a84fa1d64c87d",
     "locked": false,
     "schema_version": 3,
     "solution": true,
     "task": false
    }
   },
   "outputs": [
    {
     "data": {
      "text/plain": [
       "2126"
      ]
     },
     "execution_count": 77,
     "metadata": {},
     "output_type": "execute_result"
    }
   ],
   "source": [
    "simulation_for_taylor()"
   ]
  },
  {
   "attachments": {},
   "cell_type": "markdown",
   "metadata": {},
   "source": [
    "### Puzzle 3.1: Collecting Simulation Results\n",
    "\n",
    "Using `simulation_for_taylor()`, collect the results of running this simulation at least **1000** times and store the result in `df_taylor`. \n",
    "\n",
    "Store your results in the DataFrame `df_taylor()`. For context, we are populating a `df_taylor` that contains 1,000 simulations of the number of people needed to **satisfy Taylor's birthday problem**. \n",
    "\n",
    "If you're feeling stuck, remember how we wrote **simulation code** in lecture and **Parts 1 and 2** of this lab.\n",
    "\n",
    "*(Note: This may take a few seconds or up to a minute to run on a slower laptop.  You may want to try running the simulation 10 times to make sure your code works before changing your `for` loop range to 1,000)*"
   ]
  },
  {
   "cell_type": "code",
   "execution_count": 92,
   "metadata": {
    "nbgrader": {
     "grade": false,
     "grade_id": "cell-6a44b9f35daf8325",
     "locked": false,
     "schema_version": 3,
     "solution": true,
     "task": false
    }
   },
   "outputs": [
    {
     "data": {
      "text/html": [
       "<div>\n",
       "<style scoped>\n",
       "    .dataframe tbody tr th:only-of-type {\n",
       "        vertical-align: middle;\n",
       "    }\n",
       "\n",
       "    .dataframe tbody tr th {\n",
       "        vertical-align: top;\n",
       "    }\n",
       "\n",
       "    .dataframe thead th {\n",
       "        text-align: right;\n",
       "    }\n",
       "</style>\n",
       "<table border=\"1\" class=\"dataframe\">\n",
       "  <thead>\n",
       "    <tr style=\"text-align: right;\">\n",
       "      <th></th>\n",
       "      <th>Simulation Runs</th>\n",
       "      <th>Satisfy Taylors Problem</th>\n",
       "    </tr>\n",
       "  </thead>\n",
       "  <tbody>\n",
       "    <tr>\n",
       "      <th>0</th>\n",
       "      <td>0</td>\n",
       "      <td>2413</td>\n",
       "    </tr>\n",
       "    <tr>\n",
       "      <th>1</th>\n",
       "      <td>1</td>\n",
       "      <td>2770</td>\n",
       "    </tr>\n",
       "    <tr>\n",
       "      <th>2</th>\n",
       "      <td>2</td>\n",
       "      <td>1805</td>\n",
       "    </tr>\n",
       "    <tr>\n",
       "      <th>3</th>\n",
       "      <td>3</td>\n",
       "      <td>1898</td>\n",
       "    </tr>\n",
       "    <tr>\n",
       "      <th>4</th>\n",
       "      <td>4</td>\n",
       "      <td>2318</td>\n",
       "    </tr>\n",
       "    <tr>\n",
       "      <th>...</th>\n",
       "      <td>...</td>\n",
       "      <td>...</td>\n",
       "    </tr>\n",
       "    <tr>\n",
       "      <th>995</th>\n",
       "      <td>995</td>\n",
       "      <td>1849</td>\n",
       "    </tr>\n",
       "    <tr>\n",
       "      <th>996</th>\n",
       "      <td>996</td>\n",
       "      <td>1691</td>\n",
       "    </tr>\n",
       "    <tr>\n",
       "      <th>997</th>\n",
       "      <td>997</td>\n",
       "      <td>2544</td>\n",
       "    </tr>\n",
       "    <tr>\n",
       "      <th>998</th>\n",
       "      <td>998</td>\n",
       "      <td>3319</td>\n",
       "    </tr>\n",
       "    <tr>\n",
       "      <th>999</th>\n",
       "      <td>999</td>\n",
       "      <td>2323</td>\n",
       "    </tr>\n",
       "  </tbody>\n",
       "</table>\n",
       "<p>1000 rows × 2 columns</p>\n",
       "</div>"
      ],
      "text/plain": [
       "     Simulation Runs  Satisfy Taylors Problem\n",
       "0                  0                     2413\n",
       "1                  1                     2770\n",
       "2                  2                     1805\n",
       "3                  3                     1898\n",
       "4                  4                     2318\n",
       "..               ...                      ...\n",
       "995              995                     1849\n",
       "996              996                     1691\n",
       "997              997                     2544\n",
       "998              998                     3319\n",
       "999              999                     2323\n",
       "\n",
       "[1000 rows x 2 columns]"
      ]
     },
     "execution_count": 92,
     "metadata": {},
     "output_type": "execute_result"
    }
   ],
   "source": [
    "# Simulation code using the `simulation_for_taylor` function to run 1,000 times:\n",
    "\n",
    "data = []\n",
    "for i in range(1000):\n",
    "    d = { 'Simulation Runs': i, 'Satisfy Taylors Problem': simulation_for_taylor() }\n",
    "    data.append(d)\n",
    "\n",
    "\n",
    "# Finally, create a DataFrame of simulation results:\n",
    "df_taylor = pd.DataFrame(data)\n",
    "df_taylor"
   ]
  },
  {
   "attachments": {},
   "cell_type": "markdown",
   "metadata": {},
   "source": [
    "## Puzzle 3.2: Finding the Probability for Taylor\n",
    "\n",
    "The concert is being held and we have **exactly 2,000 people packed onto the main quad for Taylor Swift!**  \n",
    "\n",
    "Using your simulation results, we are going to find an **estimate for the probability** that Taylor will be happy to know **every day of the year** is someone’s birthday.\n",
    "\n",
    "First, using **conditional logic**, find the rows of our `df_taylor` where the **simulation was a success**, storing the results in a DataFrame `df_success` \n",
    "\n",
    "*Hint: The simulation is a success if <= 2000 people was enough for Taylor's request.*"
   ]
  },
  {
   "cell_type": "code",
   "execution_count": 102,
   "metadata": {
    "nbgrader": {
     "grade": false,
     "grade_id": "cell-0b48a78d683ce577",
     "locked": false,
     "schema_version": 3,
     "solution": true,
     "task": false
    }
   },
   "outputs": [
    {
     "data": {
      "text/html": [
       "<div>\n",
       "<style scoped>\n",
       "    .dataframe tbody tr th:only-of-type {\n",
       "        vertical-align: middle;\n",
       "    }\n",
       "\n",
       "    .dataframe tbody tr th {\n",
       "        vertical-align: top;\n",
       "    }\n",
       "\n",
       "    .dataframe thead th {\n",
       "        text-align: right;\n",
       "    }\n",
       "</style>\n",
       "<table border=\"1\" class=\"dataframe\">\n",
       "  <thead>\n",
       "    <tr style=\"text-align: right;\">\n",
       "      <th></th>\n",
       "      <th>Simulation Runs</th>\n",
       "      <th>Satisfy Taylors Problem</th>\n",
       "    </tr>\n",
       "  </thead>\n",
       "  <tbody>\n",
       "    <tr>\n",
       "      <th>2</th>\n",
       "      <td>2</td>\n",
       "      <td>1805</td>\n",
       "    </tr>\n",
       "    <tr>\n",
       "      <th>3</th>\n",
       "      <td>3</td>\n",
       "      <td>1898</td>\n",
       "    </tr>\n",
       "    <tr>\n",
       "      <th>14</th>\n",
       "      <td>14</td>\n",
       "      <td>1790</td>\n",
       "    </tr>\n",
       "    <tr>\n",
       "      <th>15</th>\n",
       "      <td>15</td>\n",
       "      <td>1751</td>\n",
       "    </tr>\n",
       "    <tr>\n",
       "      <th>21</th>\n",
       "      <td>21</td>\n",
       "      <td>1787</td>\n",
       "    </tr>\n",
       "    <tr>\n",
       "      <th>...</th>\n",
       "      <td>...</td>\n",
       "      <td>...</td>\n",
       "    </tr>\n",
       "    <tr>\n",
       "      <th>978</th>\n",
       "      <td>978</td>\n",
       "      <td>1810</td>\n",
       "    </tr>\n",
       "    <tr>\n",
       "      <th>983</th>\n",
       "      <td>983</td>\n",
       "      <td>1964</td>\n",
       "    </tr>\n",
       "    <tr>\n",
       "      <th>993</th>\n",
       "      <td>993</td>\n",
       "      <td>1744</td>\n",
       "    </tr>\n",
       "    <tr>\n",
       "      <th>995</th>\n",
       "      <td>995</td>\n",
       "      <td>1849</td>\n",
       "    </tr>\n",
       "    <tr>\n",
       "      <th>996</th>\n",
       "      <td>996</td>\n",
       "      <td>1691</td>\n",
       "    </tr>\n",
       "  </tbody>\n",
       "</table>\n",
       "<p>205 rows × 2 columns</p>\n",
       "</div>"
      ],
      "text/plain": [
       "     Simulation Runs  Satisfy Taylors Problem\n",
       "2                  2                     1805\n",
       "3                  3                     1898\n",
       "14                14                     1790\n",
       "15                15                     1751\n",
       "21                21                     1787\n",
       "..               ...                      ...\n",
       "978              978                     1810\n",
       "983              983                     1964\n",
       "993              993                     1744\n",
       "995              995                     1849\n",
       "996              996                     1691\n",
       "\n",
       "[205 rows x 2 columns]"
      ]
     },
     "execution_count": 102,
     "metadata": {},
     "output_type": "execute_result"
    }
   ],
   "source": [
    "df_success = df_taylor[df_taylor[\"Satisfy Taylors Problem\"] <= 2000]\n",
    "df_success "
   ]
  },
  {
   "attachments": {},
   "cell_type": "markdown",
   "metadata": {},
   "source": [
    "Now, using your `df_success` DataFrame, find the **probability of success** given all the simulated concerts in our `df_taylor`.\n",
    "\n",
    "Store this numerical result in the variable `P_every_birthday`. "
   ]
  },
  {
   "cell_type": "code",
   "execution_count": 103,
   "metadata": {
    "nbgrader": {
     "grade": false,
     "grade_id": "cell-3cd0d620430a89ba",
     "locked": false,
     "schema_version": 3,
     "solution": true,
     "task": false
    }
   },
   "outputs": [
    {
     "data": {
      "text/plain": [
       "0.205"
      ]
     },
     "execution_count": 103,
     "metadata": {},
     "output_type": "execute_result"
    }
   ],
   "source": [
    "P_every_birthday = len(df_success)/ len(df_taylor)\n",
    "P_every_birthday"
   ]
  },
  {
   "attachments": {},
   "cell_type": "markdown",
   "metadata": {},
   "source": [
    "### Puzzle 3.3: Visualizing Results\n",
    "\n",
    "With the cell below, generate a histogram of your `df_taylor` results, showing the distribution of people needed in our simulation to account for every birthday."
   ]
  },
  {
   "cell_type": "code",
   "execution_count": 108,
   "metadata": {
    "nbgrader": {
     "grade": false,
     "grade_id": "cell-62147f75639a94d3",
     "locked": false,
     "schema_version": 3,
     "solution": true,
     "task": false
    }
   },
   "outputs": [
    {
     "data": {
      "text/plain": [
       "array([[<Axes: title={'center': 'Simulation Runs'}>,\n",
       "        <Axes: title={'center': 'Satisfy Taylors Problem'}>]],\n",
       "      dtype=object)"
      ]
     },
     "execution_count": 108,
     "metadata": {},
     "output_type": "execute_result"
    },
    {
     "data": {
      "image/png": "[encoded data removed]",
      "text/plain": [
       "<Figure size 640x480 with 2 Axes>"
      ]
     },
     "metadata": {},
     "output_type": "display_data"
    }
   ],
   "source": [
    "df_taylor.hist()"
   ]
  },
  {
   "cell_type": "markdown",
   "metadata": {},
   "source": [
    "### 🔬 Test Case Checkpoint 🔬"
   ]
  },
  {
   "cell_type": "code",
   "execution_count": 109,
   "metadata": {
    "nbgrader": {
     "grade": true,
     "grade_id": "cell-1bae19913f8df080",
     "locked": true,
     "points": 0,
     "schema_version": 3,
     "solution": false,
     "task": false
    }
   },
   "outputs": [
    {
     "name": "stdout",
     "output_type": "stream",
     "text": [
      "🎉 All tests passed! 🎉\n"
     ]
    }
   ],
   "source": [
    "## == TEST CASES for Part 3 ==\n",
    "# - This read-only cell contains test cases for your previous cell.\n",
    "# - If this cell runs without any error our output, you PASSED all test cases!\n",
    "# - If this cell results in any errors, check you previous cell, make changes, and RE-RUN your code and then this cell.\n",
    "\n",
    "assert( len(df_taylor) >= 1000 ), \"Ensure you have done at least 1,000 simulations.\"\n",
    "assert( len(df_success) > 0 ), \"Ensure your success includes all simulations with 2,000 or fewer people.\"\n",
    "assert( len(df_success) < len(df_taylor) ), \"Ensure your success includes all simulations with 2,000 or fewer people.\"\n",
    "assert( P_every_birthday > 0.1 and P_every_birthday < 0.4 ), \"Double check your `P_every_birthday` is a reasonable probability.\"\n",
    "\n",
    "## == SUCCESS MESSAGE ==\n",
    "# You will only see this message (with the emoji showing) if you passed all test cases:\n",
    "tada = \"\\N{PARTY POPPER}\"\n",
    "print(f\"{tada} All tests passed! {tada}\")"
   ]
  },
  {
   "attachments": {},
   "cell_type": "markdown",
   "metadata": {},
   "source": [
    "### Analysis: Taylor's Birthday Problem\n",
    "\n",
    "**Q3: Looking back at your calculations and histogram of simulation results, comment on whether you think it's likely that Taylor will have her birthday request fulfilled at the UIUC Quad Concert of 2000 people**"
   ]
  },
  {
   "attachments": {},
   "cell_type": "markdown",
   "metadata": {},
   "source": [
    "Yes, it seems likely that her request will be fulfilled with 2000 people. Looking at the histogram and by running the functions coded above, I can see that when there is at least 2000 people at the concert, it's likely that the birthday request will be filled. "
   ]
  },
  {
   "cell_type": "markdown",
   "metadata": {},
   "source": [
    "<hr style=\"color: #DD3403;\">"
   ]
  },
  {
   "attachments": {},
   "cell_type": "markdown",
   "metadata": {},
   "source": [
    "# Part 4: Taylor's Conditional Probability\n",
    "Enough about birthdays. The concert is over and Taylor Swift is still here, but now she's curious about conditional probability and distant relatives.  \n",
    "\n",
    "She's conducted a **binary test** given to everyone at UIUC to determine whether or not they are **related** to her. The test result comes back either **positive (+)** or **negative (-)** for each person. \n",
    "\n",
    "We want to know:\n",
    "> What’s the probability that you are related to T. Swift, given that you got a positive test result?\n",
    "\n",
    "Let's say we know that:\n",
    "- **1%** of people are actually related to Taylor\n",
    "\n",
    "But genetic tests aren't perfect. The accuracy of the tests are as follows:\n",
    "- **99%** of people **related** to Taylor get a **positive (+)** result\n",
    "- **6%** of people **NOT related** to Taylor get a **positive (+)** result\n",
    "\n",
    "This problem is **identical to the simulation we did in lecture** -- but now you'll use Bayes' Rule! :)"
   ]
  },
  {
   "attachments": {},
   "cell_type": "markdown",
   "metadata": {},
   "source": [
    "### Puzzle 4.1: Setting up Our Solution\n",
    "Let's setup some **variables** to begin answering the **conditional probability** question above:\n",
    "> What’s the probability that you are related to T. Swift, given that you got a positive test result?\n",
    "\n",
    "In the cell below, store the following **probabilities** as **numerical values between 0 and 1**:\n",
    "- the probability someone is **actually related** to Taylor, in a variable named `p_related`\n",
    "- the probablility someone is **NOT actually related** to Taylor, in a variable named `p_not_related`\n",
    "- the probability someone **actually related** gets a **positive result**, in a variable named`p_related_test_pos`\n",
    "- the probability someone **NOT actuallty related** gets a **positive result**, in a variable named `p_not_related_test_pos`\n",
    "\n",
    "For context, a **1% probability** translates to **0.01**. "
   ]
  },
  {
   "cell_type": "code",
   "execution_count": 112,
   "metadata": {},
   "outputs": [],
   "source": [
    "p_related = 0.01\n",
    "p_not_related = 0.99\n",
    "p_related_test_pos = .99\n",
    "p_not_related_test_pos = .06 "
   ]
  },
  {
   "cell_type": "markdown",
   "metadata": {},
   "source": [
    "### 🔬 Test Case Checkpoint 🔬"
   ]
  },
  {
   "cell_type": "code",
   "execution_count": 113,
   "metadata": {},
   "outputs": [
    {
     "name": "stdout",
     "output_type": "stream",
     "text": [
      "🎉 All tests passed! 🎉\n"
     ]
    }
   ],
   "source": [
    "## == PUZZLE 4.1 TEST CASES ==\n",
    "# - This read-only cell contains test cases for your previous cell.\n",
    "# - If this cell runs without any errors, you PASSED all test cases!\n",
    "# - If this cell results in any errors, check your previous cell, make changes, and RE-RUN your code and then this cell.\n",
    "import math\n",
    "assert( \"p_related\" in vars() and \"p_not_related\" in vars() and \"p_related_test_pos\" in vars() and \"p_not_related_test_pos\" in vars() ), \"Make sure your variables are named correctly\"\n",
    "assert( type(p_related) == type(p_not_related) == type(p_related_test_pos) == type(p_not_related_test_pos) == float ), \"Your probabilities should be numerical values between 0 and 1\"\n",
    "assert( p_related + p_not_related == 1 ), \"Your p_related and p_not_related should add up to 1.\"\n",
    "x = (p_related_test_pos + p_not_related_test_pos + p_related) / p_not_related\n",
    "assert( math.isclose(x, 1.0707070707070707)), \"Please double-check your probabilities. They are not all correct.\"\n",
    "\n",
    "## == SUCCESS MESSAGE ==\n",
    "# You will only see this message (with the emoji showing) if you passed all test cases:\n",
    "tada = \"\\N{PARTY POPPER}\"\n",
    "print(f\"{tada} All tests passed! {tada}\")"
   ]
  },
  {
   "attachments": {},
   "cell_type": "markdown",
   "metadata": {},
   "source": [
    "### Puzzle 4.2: Positive Tests\n",
    "With the information we've been given above, we can now calculate the **probability** of a test result being **positive**.\n",
    "\n",
    "Because we know how many people are **actually related**, and the probability they will **test positive** given whether they are related or not, we can use the following equation to calculate the overall **probability** of **tests being positive**:\n",
    "\n",
    "> $P(\\text{test positive}) = P(\\text{related}) * P( \\text{test positive | related} ) + P(\\text{not related}) * P(\\text{test positive | not related})$\n",
    "\n",
    "Recall that the $|$ symbol means \"given\". So, $P(\\text{A | B})$ reads as \"the **probability of A given B**\"\n",
    "\n",
    "Using the variables we defined in Puzzle 4.1, calculate $P(\\text{test positive})$, storing the numerical value in `p_test_pos`:"
   ]
  },
  {
   "cell_type": "code",
   "execution_count": 114,
   "metadata": {},
   "outputs": [
    {
     "data": {
      "text/plain": [
       "0.0693"
      ]
     },
     "execution_count": 114,
     "metadata": {},
     "output_type": "execute_result"
    }
   ],
   "source": [
    "p_test_pos = p_related * p_related_test_pos + p_not_related * p_not_related_test_pos\n",
    "p_test_pos"
   ]
  },
  {
   "cell_type": "markdown",
   "metadata": {},
   "source": [
    "### 🔬 Test Case Checkpoint 🔬"
   ]
  },
  {
   "cell_type": "code",
   "execution_count": 115,
   "metadata": {},
   "outputs": [
    {
     "name": "stdout",
     "output_type": "stream",
     "text": [
      "🎉 All tests passed! 🎉\n"
     ]
    }
   ],
   "source": [
    "## == PUZZLE 4.2 TEST CASES ==\n",
    "# - This read-only cell contains test cases for your previous cell.\n",
    "# - If this cell runs without any errors, you PASSED all test cases!\n",
    "# - If this cell results in any errors, check your previous cell, make changes, and RE-RUN your code and then this cell.\n",
    "import math\n",
    "assert( \"p_test_pos\" in vars() ), \"Make sure you've named p_test_pos correctly\"\n",
    "assert( isinstance(p_test_pos, float) ), \"Your p_test_pos should be a numerical value between 0 and 1.\"\n",
    "assert( math.isclose(p_test_pos, 0.0693) ), \"Your p_test_pos is incorrect.\"\n",
    "\n",
    "## == SUCCESS MESSAGE ==\n",
    "# You will only see this message (with the emoji showing) if you passed all test cases:\n",
    "tada = \"\\N{PARTY POPPER}\"\n",
    "print(f\"{tada} All tests passed! {tada}\")"
   ]
  },
  {
   "attachments": {},
   "cell_type": "markdown",
   "metadata": {},
   "source": [
    "### Puzzle 4.3: Actually Related?\n",
    "\n",
    "Now that we have the **probability of positive test results**, using the **Bayes rule**, we can answer our original question:\n",
    "> What’s the probability that you are related to T. Swift, given that you got a positive test result?\n",
    "\n",
    "Remember, the **Bayes rule** tells us:\n",
    "\n",
    "$P(\\text{H | D}) = P(\\text{D | H}) * \\frac{P(H)}{P(D)}$\n",
    "\n",
    "In our situation, this means:\n",
    "\n",
    "$P(\\text{related | test positive}) = P(\\text{test positive | related}) * \\frac{P(\\text{related})}{P(\\text{test positive})}$\n",
    "\n",
    "Find the probability that you are **ACTUALLY related** to Taylor given you **test positive**, storing the numerical result in `actually_related`:"
   ]
  },
  {
   "cell_type": "code",
   "execution_count": 116,
   "metadata": {},
   "outputs": [
    {
     "data": {
      "text/plain": [
       "0.14285714285714285"
      ]
     },
     "execution_count": 116,
     "metadata": {},
     "output_type": "execute_result"
    }
   ],
   "source": [
    "actually_related = p_related_test_pos * (p_related/p_test_pos)\n",
    "actually_related"
   ]
  },
  {
   "cell_type": "markdown",
   "metadata": {},
   "source": [
    "### 🔬 Test Case Checkpoint 🔬"
   ]
  },
  {
   "cell_type": "code",
   "execution_count": 117,
   "metadata": {},
   "outputs": [
    {
     "name": "stdout",
     "output_type": "stream",
     "text": [
      "🎉 All tests passed! 🎉\n"
     ]
    }
   ],
   "source": [
    "## == PUZZLE 4.3 TEST CASES ==\n",
    "# - This read-only cell contains test cases for your previous cell.\n",
    "# - If this cell runs without any errors, you PASSED all test cases!\n",
    "# - If this cell results in any errors, check your previous cell, make changes, and RE-RUN your code and then this cell.\n",
    "import math\n",
    "assert( \"actually_related\" in vars() ), \"Make sure you've named actually_related correctly\"\n",
    "assert( isinstance(actually_related, float) ), \"Your actually_related probability should be a numerical value between 0 and 1.\"\n",
    "assert( math.isclose(actually_related, 0.14285714285714285) ), \"Your actually_related probability is incorrect.\"\n",
    "\n",
    "## == SUCCESS MESSAGE ==\n",
    "# You will only see this message (with the emoji showing) if you passed all test cases:\n",
    "tada = \"\\N{PARTY POPPER}\"\n",
    "print(f\"{tada} All tests passed! {tada}\")"
   ]
  },
  {
   "attachments": {},
   "cell_type": "markdown",
   "metadata": {},
   "source": [
    "### Analysis: Interpreting Conditional Probability\n",
    "**Q5: Interpret your probability value from Puzzle 4.3. Of all the people who test positive, how many of them will actually be related to Taylor? Does this align with your intuition from before? Explain with statistical terminology, using terms like *\"false positive\"*.**"
   ]
  },
  {
   "attachments": {},
   "cell_type": "markdown",
   "metadata": {},
   "source": [
    "There is arounf a 14% chance that of all people who test positive they will be related to Taylor. This makes sense as there is only really a 1% chance of being related to Taylor, regardless of testing. This also makes sense because genetic testing can arise in false positives when tests wrongly give a positive answer due to confounding factors during the testing. So the actual value of how many people are related to her depends on the number of false positives given. This is as I expected, because from the beginning I had to keep in mind the imperfections of genetic testing."
   ]
  },
  {
   "cell_type": "markdown",
   "metadata": {},
   "source": [
    "# Submission\n",
    "\n",
    "You're almost done!  All you need to do is to commit your lab to GitHub:\n",
    "\n",
    "1.  ⚠️ **Make certain to save your work.** ⚠️ To do this, go to **File => Save All**\n",
    "\n",
    "2.  After you have saved, exit this notebook and follow the Canvas instructions to commit this lab to your Git repository!\n",
    "\n",
    "3. Your TA will grade your submission and provide you feedback after the lab is due. :)"
   ]
  }
 ],
 "metadata": {
  "celltoolbar": "Create Assignment",
  "kernelspec": {
   "display_name": "Python 3",
   "language": "python",
   "name": "python3"
  },
  "language_info": {
   "codemirror_mode": {
    "name": "ipython",
    "version": 3
   },
   "file_extension": ".py",
   "mimetype": "text/x-python",
   "name": "python",
   "nbconvert_exporter": "python",
   "pygments_lexer": "ipython3",
   "version": "3.11.1"
  },
  "vscode": {
   "interpreter": {
    "hash": "369f2c481f4da34e4445cda3fffd2e751bd1c4d706f27375911949ba6bb62e1c"
   }
  }
 },
 "nbformat": 4,
 "nbformat_minor": 2
}
